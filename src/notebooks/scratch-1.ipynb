{
 "cells": [
  {
   "cell_type": "code",
   "execution_count": 13,
   "id": "920359a8",
   "metadata": {},
   "outputs": [],
   "source": [
    "# allows to import of modules\n",
    "import os\n",
    "import sys\n",
    "nb_dir = os.path.split(os.getcwd())[0]\n",
    "nb_dir\n",
    "if nb_dir not in sys.path:\n",
    "    sys.path.append(nb_dir)"
   ]
  },
  {
   "cell_type": "code",
   "execution_count": 14,
   "id": "bde27fee",
   "metadata": {},
   "outputs": [
    {
     "name": "stdout",
     "output_type": "stream",
     "text": [
      "The autoreload extension is already loaded. To reload it, use:\n",
      "  %reload_ext autoreload\n"
     ]
    }
   ],
   "source": [
    "%load_ext autoreload\n",
    "%autoreload 2"
   ]
  },
  {
   "cell_type": "code",
   "execution_count": 15,
   "id": "d43af5e4",
   "metadata": {},
   "outputs": [],
   "source": [
    "# from model import ResNetUNet\n",
    "# import torch\n",
    "\n",
    "# unet = ResNetUNet(1)\n",
    "# x = torch.rand(1, 3, 256, 256)\n",
    "# print(x.shape)\n",
    "# out = unet(x)"
   ]
  },
  {
   "cell_type": "code",
   "execution_count": 16,
   "id": "b03ecedc",
   "metadata": {},
   "outputs": [],
   "source": [
    "from torchvision import models\n",
    "import torch"
   ]
  },
  {
   "cell_type": "markdown",
   "id": "d9ed5cd8",
   "metadata": {},
   "source": [
    "m = models.resnet18(pretrained=False)\n",
    "\n",
    "x = torch.rand(3, 256, 256)\n",
    "print(x.shape);\n",
    "\n",
    "x = x[None]\n",
    "\n",
    "x.shape\n",
    "\n",
    "y = m(x)\n",
    "y.shape\n",
    "\n",
    "\n",
    "\n",
    "from model import ResNetUNet\n",
    "\n",
    "unet = ResNetUNet(1)"
   ]
  },
  {
   "cell_type": "code",
   "execution_count": null,
   "id": "cc1eda31",
   "metadata": {},
   "outputs": [],
   "source": []
  },
  {
   "cell_type": "code",
   "execution_count": 17,
   "id": "88c77d3b",
   "metadata": {},
   "outputs": [],
   "source": [
    "import torch.nn as nn\n",
    "import torch"
   ]
  },
  {
   "cell_type": "markdown",
   "id": "8c76bc32",
   "metadata": {},
   "source": [
    "# Example of target with class indices\n",
    "loss = nn.CrossEntropyLoss()\n",
    "input = torch.randn(3, 5, requires_grad=True)\n",
    "target = torch.empty(3, dtype=torch.long).random_(5)\n",
    "output = loss(input, target)\n",
    "print(f'in {input.shape}, target {target.shape}')"
   ]
  },
  {
   "cell_type": "markdown",
   "id": "8c6d5570",
   "metadata": {},
   "source": [
    "# Example of target with class probabilities\n",
    "input = torch.randn(3, 5, requires_grad=True)\n",
    "target = torch.randn(3, 5).softmax(dim=1)\n",
    "output = loss(input, target)\n",
    "print(f'in {input.shape}, target {target.shape}')"
   ]
  },
  {
   "cell_type": "code",
   "execution_count": 18,
   "id": "6bff7f69",
   "metadata": {},
   "outputs": [],
   "source": [
    "from dataset import OTU_2dDataSet\n",
    "from pathlib import Path\n",
    "from torch.utils.data import DataLoader"
   ]
  },
  {
   "cell_type": "code",
   "execution_count": 19,
   "id": "c4e95a14",
   "metadata": {},
   "outputs": [],
   "source": [
    "DATA_DIR = Path(\"../../data/OTU_2d\")"
   ]
  },
  {
   "cell_type": "code",
   "execution_count": 20,
   "id": "a6ea23fb",
   "metadata": {},
   "outputs": [],
   "source": [
    "images_dir = DATA_DIR/'images'\n",
    "labels_dir = DATA_DIR/'annotations'\n",
    "train_csv = DATA_DIR/'train_cls.txt'"
   ]
  },
  {
   "cell_type": "code",
   "execution_count": 21,
   "id": "81598a56",
   "metadata": {
    "scrolled": true
   },
   "outputs": [
    {
     "name": "stderr",
     "output_type": "stream",
     "text": [
      "/home/shaun/personal/ovarian_ct/src/dataset.py:14: ParserWarning: Falling back to the 'python' engine because the 'c' engine does not support regex separators (separators > 1 char and different from '\\s+' are interpreted as regex); you can avoid this warning by specifying engine='python'.\n",
      "  self.dataDf = pd.read_csv(data_csv, delimiter='  ', index_col=False)[:10]\n"
     ]
    }
   ],
   "source": [
    "ds = OTU_2dDataSet(images_dir, labels_dir, train_csv)"
   ]
  },
  {
   "cell_type": "code",
   "execution_count": 22,
   "id": "6033dcc1",
   "metadata": {},
   "outputs": [
    {
     "data": {
      "text/plain": [
       "torch.float32"
      ]
     },
     "execution_count": 22,
     "metadata": {},
     "output_type": "execute_result"
    }
   ],
   "source": [
    "im, lbl = ds[0];\n",
    "lbl.dtype"
   ]
  },
  {
   "cell_type": "code",
   "execution_count": 24,
   "id": "2cc33302",
   "metadata": {},
   "outputs": [
    {
     "data": {
      "text/plain": [
       "tensor([0., 1.])"
      ]
     },
     "execution_count": 24,
     "metadata": {},
     "output_type": "execute_result"
    }
   ],
   "source": [
    "lbl.unique()"
   ]
  },
  {
   "cell_type": "code",
   "execution_count": null,
   "id": "e51d4350",
   "metadata": {},
   "outputs": [],
   "source": []
  },
  {
   "cell_type": "code",
   "execution_count": null,
   "id": "096112cf",
   "metadata": {},
   "outputs": [],
   "source": []
  },
  {
   "cell_type": "code",
   "execution_count": null,
   "id": "bca3bb63",
   "metadata": {},
   "outputs": [],
   "source": []
  },
  {
   "cell_type": "code",
   "execution_count": null,
   "id": "a2cee76e",
   "metadata": {},
   "outputs": [],
   "source": []
  },
  {
   "cell_type": "code",
   "execution_count": null,
   "id": "d37846ba",
   "metadata": {},
   "outputs": [],
   "source": []
  }
 ],
 "metadata": {
  "kernelspec": {
   "display_name": "Python 3 (ipykernel)",
   "language": "python",
   "name": "python3"
  },
  "language_info": {
   "codemirror_mode": {
    "name": "ipython",
    "version": 3
   },
   "file_extension": ".py",
   "mimetype": "text/x-python",
   "name": "python",
   "nbconvert_exporter": "python",
   "pygments_lexer": "ipython3",
   "version": "3.10.6"
  }
 },
 "nbformat": 4,
 "nbformat_minor": 5
}
