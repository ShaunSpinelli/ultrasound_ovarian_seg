{
 "cells": [
  {
   "cell_type": "code",
   "execution_count": 1,
   "id": "4946b953",
   "metadata": {},
   "outputs": [],
   "source": [
    "%load_ext autoreload\n",
    "%autoreload 2"
   ]
  },
  {
   "cell_type": "code",
   "execution_count": 2,
   "id": "10de8af7",
   "metadata": {},
   "outputs": [],
   "source": [
    "# allows to import of modules\n",
    "import os\n",
    "import sys\n",
    "nb_dir = os.path.split(os.getcwd())[0]\n",
    "nb_dir\n",
    "if nb_dir not in sys.path:\n",
    "    sys.path.append(nb_dir)"
   ]
  },
  {
   "cell_type": "code",
   "execution_count": 3,
   "id": "3d8b14ec",
   "metadata": {},
   "outputs": [
    {
     "name": "stderr",
     "output_type": "stream",
     "text": [
      "/opt/conda/lib/python3.7/site-packages/torchvision/models/_utils.py:209: UserWarning: The parameter 'pretrained' is deprecated since 0.13 and will be removed in 0.15, please use 'weights' instead.\n",
      "  f\"The parameter '{pretrained_param}' is deprecated since 0.13 and will be removed in 0.15, \"\n",
      "/opt/conda/lib/python3.7/site-packages/torchvision/models/_utils.py:223: UserWarning: Arguments other than a weight enum or `None` for 'weights' are deprecated since 0.13 and will be removed in 0.15. The current behavior is equivalent to passing `weights=None`.\n",
      "  warnings.warn(msg)\n"
     ]
    },
    {
     "name": "stdout",
     "output_type": "stream",
     "text": [
      "torch.Size([1, 3, 256, 256])\n"
     ]
    }
   ],
   "source": [
    "from model import ResNetUNet\n",
    "import torch\n",
    "unet = ResNetUNet(1)\n",
    "x = torch.rand(1, 3, 256, 256)\n",
    "print(x.shape)\n",
    "out = unet(x)"
   ]
  },
  {
   "cell_type": "code",
   "execution_count": 4,
   "id": "48b20a54",
   "metadata": {},
   "outputs": [],
   "source": [
    "# import warnings\n",
    "# warnings.filterwarnings('ignore')"
   ]
  },
  {
   "cell_type": "code",
   "execution_count": 5,
   "id": "313a75af",
   "metadata": {},
   "outputs": [],
   "source": [
    "from pathlib import Path\n",
    "from torch.utils.data import DataLoader\n",
    "import torch.nn as nn\n",
    "import torch"
   ]
  },
  {
   "cell_type": "code",
   "execution_count": 6,
   "id": "045ae7e6",
   "metadata": {},
   "outputs": [],
   "source": [
    "# My modules"
   ]
  },
  {
   "cell_type": "code",
   "execution_count": 7,
   "id": "ea1e97f2",
   "metadata": {
    "scrolled": true
   },
   "outputs": [],
   "source": [
    "from dataset import OTU_2dDataSet\n",
    "from train import Training\n",
    "import metrics\n",
    "# import model\n",
    "import train"
   ]
  },
  {
   "cell_type": "markdown",
   "id": "b7733e3f",
   "metadata": {},
   "source": [
    "## Setup data"
   ]
  },
  {
   "cell_type": "code",
   "execution_count": 8,
   "id": "8fab1b57",
   "metadata": {},
   "outputs": [],
   "source": [
    "DATA_DIR = Path(\"../../data/OTU_2d\")"
   ]
  },
  {
   "cell_type": "code",
   "execution_count": 9,
   "id": "4143edbe",
   "metadata": {},
   "outputs": [],
   "source": [
    "images_dir = DATA_DIR/'images'\n",
    "labels_dir = DATA_DIR/'annotations'\n",
    "train_csv = DATA_DIR/'train_cls.txt'"
   ]
  },
  {
   "cell_type": "code",
   "execution_count": 10,
   "id": "2af1d73e",
   "metadata": {},
   "outputs": [
    {
     "name": "stderr",
     "output_type": "stream",
     "text": [
      "/opt/conda/lib/python3.7/site-packages/pandas/util/_decorators.py:311: ParserWarning: Falling back to the 'python' engine because the 'c' engine does not support regex separators (separators > 1 char and different from '\\s+' are interpreted as regex); you can avoid this warning by specifying engine='python'.\n",
      "  return func(*args, **kwargs)\n"
     ]
    }
   ],
   "source": [
    "ds = OTU_2dDataSet(images_dir, labels_dir, train_csv)"
   ]
  },
  {
   "cell_type": "code",
   "execution_count": 11,
   "id": "4da373d9",
   "metadata": {},
   "outputs": [
    {
     "data": {
      "text/plain": [
       "torch.Size([3, 256, 256])"
      ]
     },
     "execution_count": 11,
     "metadata": {},
     "output_type": "execute_result"
    }
   ],
   "source": [
    "im, lbl = ds[0];\n",
    "im.shape"
   ]
  },
  {
   "cell_type": "code",
   "execution_count": 12,
   "id": "afc36746",
   "metadata": {},
   "outputs": [],
   "source": [
    "dl = DataLoader(ds, batch_size=1,shuffle=True)"
   ]
  },
  {
   "cell_type": "code",
   "execution_count": 17,
   "id": "1425bbe9",
   "metadata": {},
   "outputs": [
    {
     "data": {
      "text/plain": [
       "0"
      ]
     },
     "execution_count": 17,
     "metadata": {},
     "output_type": "execute_result"
    }
   ],
   "source": [
    "2000%1000"
   ]
  },
  {
   "cell_type": "markdown",
   "id": "c6f1920c",
   "metadata": {},
   "source": [
    "## Metrics"
   ]
  },
  {
   "cell_type": "code",
   "execution_count": null,
   "id": "0886f27f",
   "metadata": {},
   "outputs": [],
   "source": [
    "from torch.utils.tensorboard import SummaryWriter\n",
    "\n",
    "# default `log_dir` is \"runs\" - we'll be more specific here\n",
    "writer = SummaryWriter('../../data/runs/run-1/')"
   ]
  },
  {
   "cell_type": "code",
   "execution_count": null,
   "id": "1dd87748",
   "metadata": {},
   "outputs": [],
   "source": [
    "acc =  metrics.Accuracy()\n",
    "manager = metrics.MetricManager([acc ], writer)"
   ]
  },
  {
   "cell_type": "markdown",
   "id": "a5f4991a",
   "metadata": {},
   "source": [
    "## Training"
   ]
  },
  {
   "cell_type": "code",
   "execution_count": null,
   "id": "312629f6",
   "metadata": {},
   "outputs": [],
   "source": [
    "n_classes = 1\n",
    "net = model.ResNetUNet(n_classes)"
   ]
  },
  {
   "cell_type": "code",
   "execution_count": null,
   "id": "8d6dc94f",
   "metadata": {},
   "outputs": [],
   "source": []
  },
  {
   "cell_type": "code",
   "execution_count": null,
   "id": "1c1d748c",
   "metadata": {},
   "outputs": [],
   "source": [
    "criterion = nn.BCEWithLogitsLoss()\n",
    "# criterion = nn.CrossEntropyLoss()\n",
    "\n",
    "\n",
    "# optimizer = torch.optim.SGD(net.parameters(), lr=0.01, momentum=0.9)\n",
    "optimizer = torch.optim.Adam(net.parameters(), lr=0.001)"
   ]
  },
  {
   "cell_type": "code",
   "execution_count": null,
   "id": "7f772fde",
   "metadata": {
    "scrolled": true
   },
   "outputs": [],
   "source": [
    "trainer = train.Training(manager, criterion, optimizer, dl, 1, net, DATA_DIR/\"runs\")"
   ]
  },
  {
   "cell_type": "code",
   "execution_count": null,
   "id": "2c60927b",
   "metadata": {},
   "outputs": [],
   "source": [
    "trainer.run()"
   ]
  },
  {
   "cell_type": "code",
   "execution_count": null,
   "id": "8f26f6d4",
   "metadata": {},
   "outputs": [],
   "source": []
  }
 ],
 "metadata": {
  "kernelspec": {
   "display_name": "Python 3 (ipykernel)",
   "language": "python",
   "name": "python3"
  },
  "language_info": {
   "codemirror_mode": {
    "name": "ipython",
    "version": 3
   },
   "file_extension": ".py",
   "mimetype": "text/x-python",
   "name": "python",
   "nbconvert_exporter": "python",
   "pygments_lexer": "ipython3",
   "version": "3.7.13"
  }
 },
 "nbformat": 4,
 "nbformat_minor": 5
}
