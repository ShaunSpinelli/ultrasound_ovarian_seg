{
 "cells": [
  {
   "cell_type": "code",
   "execution_count": 1,
   "id": "324569bb",
   "metadata": {},
   "outputs": [],
   "source": [
    "%load_ext autoreload\n",
    "%autoreload 2"
   ]
  },
  {
   "cell_type": "code",
   "execution_count": 2,
   "id": "10de8af7",
   "metadata": {},
   "outputs": [],
   "source": [
    "# allows to import of modules\n",
    "import os\n",
    "import sys\n",
    "nb_dir = os.path.split(os.getcwd())[0]\n",
    "nb_dir\n",
    "if nb_dir not in sys.path:\n",
    "    sys.path.append(nb_dir)"
   ]
  },
  {
   "cell_type": "code",
   "execution_count": 3,
   "id": "48b20a54",
   "metadata": {},
   "outputs": [],
   "source": [
    "import warnings\n",
    "warnings.filterwarnings('ignore')"
   ]
  },
  {
   "cell_type": "code",
   "execution_count": 4,
   "id": "313a75af",
   "metadata": {},
   "outputs": [],
   "source": [
    "from pathlib import Path\n",
    "from torch.utils.data import DataLoader\n",
    "import torch.nn as nn\n",
    "import torch"
   ]
  },
  {
   "cell_type": "code",
   "execution_count": 5,
   "id": "045ae7e6",
   "metadata": {},
   "outputs": [],
   "source": [
    "# My modules"
   ]
  },
  {
   "cell_type": "code",
   "execution_count": 6,
   "id": "ea1e97f2",
   "metadata": {
    "scrolled": true
   },
   "outputs": [],
   "source": [
    "from dataset import OTU_2dDataSet\n",
    "from train import Training\n",
    "import metrics\n",
    "import model\n",
    "import train"
   ]
  },
  {
   "cell_type": "markdown",
   "id": "b7733e3f",
   "metadata": {},
   "source": [
    "## Setup data"
   ]
  },
  {
   "cell_type": "code",
   "execution_count": 7,
   "id": "8fab1b57",
   "metadata": {},
   "outputs": [],
   "source": [
    "DATA_DIR = Path(\"../../data/OTU_2d\")"
   ]
  },
  {
   "cell_type": "code",
   "execution_count": 8,
   "id": "4143edbe",
   "metadata": {},
   "outputs": [],
   "source": [
    "images_dir = DATA_DIR/'images'\n",
    "labels_dir = DATA_DIR/'annotations'\n",
    "train_csv = DATA_DIR/'train_cls.txt'"
   ]
  },
  {
   "cell_type": "code",
   "execution_count": 9,
   "id": "2af1d73e",
   "metadata": {},
   "outputs": [],
   "source": [
    "ds = OTU_2dDataSet(images_dir, labels_dir, train_csv)"
   ]
  },
  {
   "cell_type": "code",
   "execution_count": 10,
   "id": "474da9c2",
   "metadata": {},
   "outputs": [
    {
     "data": {
      "text/plain": [
       "torch.Size([3, 256, 256])"
      ]
     },
     "execution_count": 10,
     "metadata": {},
     "output_type": "execute_result"
    }
   ],
   "source": [
    "im, lbl = ds[0];\n",
    "im.shape"
   ]
  },
  {
   "cell_type": "code",
   "execution_count": 11,
   "id": "742cdb5b",
   "metadata": {},
   "outputs": [
    {
     "data": {
      "text/plain": [
       "tensor([[[0., 0., 0.,  ..., 0., 0., 0.],\n",
       "         [0., 0., 0.,  ..., 0., 0., 0.],\n",
       "         [0., 0., 0.,  ..., 0., 0., 0.],\n",
       "         ...,\n",
       "         [0., 0., 0.,  ..., 0., 0., 0.],\n",
       "         [0., 0., 0.,  ..., 0., 0., 0.],\n",
       "         [0., 0., 0.,  ..., 0., 0., 0.]]])"
      ]
     },
     "execution_count": 11,
     "metadata": {},
     "output_type": "execute_result"
    }
   ],
   "source": [
    "lbl"
   ]
  },
  {
   "cell_type": "code",
   "execution_count": 12,
   "id": "f5f5a5bb",
   "metadata": {},
   "outputs": [],
   "source": [
    "# import matplotlib.pyplot as plt\n",
    "# plt.imshow(  (im*255).permute(1, 2, 0)  )"
   ]
  },
  {
   "cell_type": "code",
   "execution_count": 13,
   "id": "afc36746",
   "metadata": {},
   "outputs": [],
   "source": [
    "dl = DataLoader(ds, batch_size=4,shuffle=True)"
   ]
  },
  {
   "cell_type": "markdown",
   "id": "c6f1920c",
   "metadata": {},
   "source": [
    "## Metrics"
   ]
  },
  {
   "cell_type": "code",
   "execution_count": 14,
   "id": "0886f27f",
   "metadata": {},
   "outputs": [],
   "source": [
    "from torch.utils.tensorboard import SummaryWriter\n",
    "\n",
    "# default `log_dir` is \"runs\" - we'll be more specific here\n",
    "writer = SummaryWriter('../../data/runs/run-4/')"
   ]
  },
  {
   "cell_type": "code",
   "execution_count": 15,
   "id": "1dd87748",
   "metadata": {},
   "outputs": [],
   "source": [
    "acc =  metrics.Accuracy()\n",
    "manager = metrics.MetricManager([acc ], writer)"
   ]
  },
  {
   "cell_type": "markdown",
   "id": "a5f4991a",
   "metadata": {},
   "source": [
    "## Training"
   ]
  },
  {
   "cell_type": "code",
   "execution_count": 16,
   "id": "f810e07a",
   "metadata": {},
   "outputs": [],
   "source": [
    "n_classes = 1\n",
    "net = model.ResNetUNet(n_classes)"
   ]
  },
  {
   "cell_type": "code",
   "execution_count": 17,
   "id": "1c1d748c",
   "metadata": {},
   "outputs": [],
   "source": [
    "# criterion = nn.BCEWithLogitsLoss()\n",
    "criterion = nn.BCELoss()\n",
    "\n",
    "\n",
    "# optimizer = torch.optim.SGD(net.parameters(), lr=0.01, momentum=0.9)\n",
    "optimizer = torch.optim.Adam(net.parameters(), lr=0.001)"
   ]
  },
  {
   "cell_type": "code",
   "execution_count": 18,
   "id": "7f772fde",
   "metadata": {
    "scrolled": true
   },
   "outputs": [],
   "source": [
    "trainer = train.Training(manager, criterion, optimizer, dl, 2, net, DATA_DIR/\"runs\")"
   ]
  },
  {
   "cell_type": "code",
   "execution_count": 19,
   "id": "2c60927b",
   "metadata": {
    "scrolled": false
   },
   "outputs": [
    {
     "name": "stdout",
     "output_type": "stream",
     "text": [
      "Epoch 0/2\n"
     ]
    },
    {
     "data": {
      "application/vnd.jupyter.widget-view+json": {
       "model_id": "8c3787d8b7874e3d825110c98632c8a3",
       "version_major": 2,
       "version_minor": 0
      },
      "text/plain": [
       "  0%|          | 0/250 [00:00<?, ?it/s]"
      ]
     },
     "metadata": {},
     "output_type": "display_data"
    },
    {
     "name": "stdout",
     "output_type": "stream",
     "text": [
      "0.7586272358894348\n",
      "0.007973521947860718\n",
      "0.0464630126953125\n",
      "0.08856680989265442\n",
      "0.039384134113788605\n",
      "0.03595389798283577\n",
      "0.04200804978609085\n",
      "0.07270065695047379\n",
      "0.033623192459344864\n",
      "0.06556791812181473\n",
      "0.06814844906330109\n",
      "0.07642559707164764\n",
      "0.08584864437580109\n",
      "0.04025029391050339\n",
      "0.06609898060560226\n",
      "0.022976450622081757\n",
      "0.06111294403672218\n",
      "0.02742094174027443\n",
      "0.02098831720650196\n",
      "0.08669835329055786\n",
      "0.025015439838171005\n",
      "0.07724687457084656\n",
      "0.06747376918792725\n",
      "0.08583518117666245\n",
      "0.05835739150643349\n",
      "0.034628476947546005\n",
      "0.060943908989429474\n",
      "0.08554346859455109\n",
      "0.07313896715641022\n",
      "0.025296684354543686\n",
      "0.06704592704772949\n",
      "0.05107506364583969\n",
      "0.048895448446273804\n",
      "0.07200352847576141\n",
      "0.03218557685613632\n",
      "0.053607720881700516\n",
      "0.07842270284891129\n",
      "0.10711072385311127\n",
      "0.10060778260231018\n",
      "0.0488535575568676\n",
      "0.08118125051259995\n",
      "0.043352920562028885\n",
      "0.024831436574459076\n",
      "0.07092045992612839\n",
      "0.05577835813164711\n",
      "0.06544823944568634\n",
      "0.05680308863520622\n",
      "0.04435819759964943\n",
      "0.06765927374362946\n",
      "0.07888046652078629\n",
      "0.03399119898676872\n",
      "0.05137873440980911\n",
      "0.0815238282084465\n",
      "0.054161228239536285\n",
      "0.08991317451000214\n",
      "0.059805482625961304\n",
      "0.09071201086044312\n",
      "0.05423452705144882\n",
      "0.053930848836898804\n",
      "0.04118227958679199\n",
      "0.03341525420546532\n",
      "0.03632040321826935\n",
      "0.06778044998645782\n",
      "0.059379130601882935\n",
      "0.06877376139163971\n",
      "0.02019994519650936\n",
      "0.050454236567020416\n",
      "0.047923073172569275\n",
      "0.059030577540397644\n",
      "0.08587707579135895\n",
      "0.04586014524102211\n",
      "0.04260942339897156\n",
      "0.070461206138134\n",
      "0.09723439812660217\n",
      "0.08062624931335449\n",
      "0.03246232867240906\n",
      "0.0705883577466011\n",
      "0.014030607417225838\n",
      "0.0320180281996727\n",
      "0.06471222639083862\n",
      "0.04271563142538071\n",
      "0.07190629839897156\n",
      "0.027690215036273003\n",
      "0.03364114463329315\n",
      "0.04771064594388008\n",
      "0.06698310375213623\n",
      "0.032707665115594864\n",
      "0.05312153697013855\n",
      "0.058788228780031204\n",
      "0.05137574300169945\n",
      "0.0769461840391159\n",
      "0.12988221645355225\n",
      "0.050352513790130615\n",
      "0.04015155881643295\n",
      "0.02518896944820881\n",
      "0.043364886194467545\n",
      "0.041297465562820435\n",
      "0.024470914155244827\n",
      "0.06674673408269882\n",
      "0.04346960410475731\n",
      "0.061527326703071594\n",
      "0.0968424528837204\n",
      "0.044145770370960236\n",
      "0.03454619646072388\n",
      "0.058420225977897644\n",
      "0.03424551337957382\n",
      "0.036498431116342545\n",
      "0.048183370381593704\n",
      "0.07973764836788177\n",
      "0.07971371710300446\n",
      "0.05744186043739319\n",
      "0.05462946370244026\n",
      "0.02765132114291191\n",
      "0.04668441787362099\n",
      "0.013845108449459076\n",
      "0.02056795172393322\n",
      "0.08403553813695908\n",
      "0.05012064054608345\n",
      "0.0440216101706028\n",
      "0.09026321768760681\n",
      "0.02327713556587696\n",
      "0.055338550359010696\n",
      "0.06688137352466583\n",
      "0.05912182480096817\n",
      "0.07169237732887268\n",
      "0.07808013260364532\n",
      "0.05528618395328522\n",
      "0.06059086322784424\n",
      "0.027042467147111893\n",
      "0.04482942819595337\n",
      "0.07615332305431366\n",
      "0.045946910977363586\n",
      "0.051078055053949356\n",
      "0.04721548408269882\n",
      "0.04596037417650223\n",
      "0.05236158147454262\n",
      "0.09772807359695435\n",
      "0.043007347732782364\n",
      "0.050343532115221024\n",
      "0.0732421949505806\n",
      "0.06947985291481018\n",
      "0.09121615439653397\n",
      "0.0845755785703659\n",
      "0.0569407194852829\n",
      "0.025410374626517296\n",
      "0.03973568603396416\n",
      "0.058418724685907364\n",
      "0.044501811265945435\n",
      "0.07165348529815674\n",
      "0.05722195655107498\n",
      "0.05014756694436073\n",
      "0.04571354016661644\n",
      "0.0676637589931488\n",
      "0.045824237167835236\n",
      "0.0472005233168602\n",
      "0.03931382670998573\n",
      "0.0690116211771965\n",
      "0.027120254933834076\n",
      "0.03454171121120453\n",
      "0.05487480014562607\n",
      "0.10332444310188293\n",
      "0.04587211459875107\n",
      "0.053378839045763016\n",
      "0.07560880482196808\n",
      "0.06231120973825455\n",
      "0.05929536372423172\n",
      "0.06652683019638062\n",
      "0.031086044386029243\n",
      "0.028360407799482346\n",
      "0.06980746984481812\n",
      "0.08611492812633514\n",
      "0.06350499391555786\n",
      "0.049264952540397644\n",
      "0.05848155915737152\n",
      "0.06037992984056473\n",
      "0.06256253272294998\n",
      "0.07859323918819427\n",
      "0.052174586802721024\n",
      "0.02724292501807213\n",
      "0.08453518897294998\n",
      "0.05217758193612099\n",
      "0.01901664212346077\n",
      "0.04339330270886421\n",
      "0.07439108937978745\n",
      "0.045183971524238586\n",
      "0.059775564819574356\n",
      "0.04573897272348404\n",
      "0.04542781040072441\n",
      "0.028258681297302246\n",
      "0.09857626259326935\n",
      "0.06316091865301132\n",
      "0.029032092541456223\n",
      "0.06427241861820221\n",
      "0.050065282732248306\n",
      "0.08413128554821014\n",
      "0.04813998565077782\n",
      "0.09556789696216583\n",
      "0.03158868849277496\n",
      "0.039779067039489746\n",
      "0.09636375308036804\n",
      "0.05212372541427612\n",
      "0.06608402729034424\n",
      "0.05762886255979538\n",
      "0.1184845045208931\n",
      "0.09862864017486572\n",
      "0.07221895456314087\n",
      "0.03886204585433006\n",
      "0.03778943791985512\n",
      "0.061102475970983505\n",
      "0.0697670727968216\n",
      "0.07974662631750107\n",
      "0.06793751567602158\n",
      "0.07642259448766708\n",
      "0.047210998833179474\n",
      "0.021722834557294846\n",
      "0.06137923151254654\n",
      "0.04803526774048805\n",
      "0.04800385236740112\n",
      "0.07918114960193634\n",
      "0.04877875745296478\n",
      "0.05182303488254547\n",
      "0.03952625393867493\n",
      "0.05235709622502327\n",
      "0.019127342849969864\n",
      "0.09627847373485565\n",
      "0.05726085603237152\n",
      "0.04274555668234825\n",
      "0.03063875436782837\n",
      "0.09277195483446121\n",
      "0.05419114604592323\n",
      "0.09397020936012268\n",
      "0.07682650536298752\n",
      "0.07809508591890335\n",
      "0.08766474574804306\n",
      "0.04155626893043518\n",
      "0.07797092944383621\n",
      "0.03208833932876587\n",
      "0.03821130096912384\n",
      "0.05060981586575508\n",
      "0.04189734533429146\n",
      "0.07697012275457382\n",
      "0.03274955227971077\n",
      "0.030230358242988586\n",
      "0.03170088678598404\n",
      "0.0548718124628067\n",
      "0.06956961750984192\n",
      "0.03163206949830055\n",
      "0.08436315506696701\n",
      "0.09861068427562714\n",
      "0.036199234426021576\n"
     ]
    },
    {
     "ename": "RuntimeError",
     "evalue": "Parent directory ../../data/OTU_2d/runs does not exist.",
     "output_type": "error",
     "traceback": [
      "\u001b[0;31m---------------------------------------------------------------------------\u001b[0m",
      "\u001b[0;31mRuntimeError\u001b[0m                              Traceback (most recent call last)",
      "Cell \u001b[0;32mIn[19], line 1\u001b[0m\n\u001b[0;32m----> 1\u001b[0m \u001b[43mtrainer\u001b[49m\u001b[38;5;241;43m.\u001b[39;49m\u001b[43mrun\u001b[49m\u001b[43m(\u001b[49m\u001b[43m)\u001b[49m\n",
      "File \u001b[0;32m~/personal/ovarian_ct/src/train.py:75\u001b[0m, in \u001b[0;36mTraining.run\u001b[0;34m(self)\u001b[0m\n\u001b[1;32m     73\u001b[0m \u001b[38;5;28;01mdef\u001b[39;00m \u001b[38;5;21mrun\u001b[39m(\u001b[38;5;28mself\u001b[39m):\n\u001b[1;32m     74\u001b[0m     \u001b[38;5;28;01mtry\u001b[39;00m:\n\u001b[0;32m---> 75\u001b[0m         \u001b[38;5;28;43mself\u001b[39;49m\u001b[38;5;241;43m.\u001b[39;49m\u001b[43mtrain_loop\u001b[49m\u001b[43m(\u001b[49m\u001b[43m)\u001b[49m\n\u001b[1;32m     76\u001b[0m     \u001b[38;5;28;01mexcept\u001b[39;00m \u001b[38;5;167;01mKeyboardInterrupt\u001b[39;00m:\n\u001b[1;32m     77\u001b[0m         _logger\u001b[38;5;241m.\u001b[39mdebug(\u001b[38;5;124m\"\u001b[39m\u001b[38;5;124mQuitting due to user cancel\u001b[39m\u001b[38;5;124m\"\u001b[39m)\n",
      "File \u001b[0;32m~/personal/ovarian_ct/src/train.py:71\u001b[0m, in \u001b[0;36mTraining.train_loop\u001b[0;34m(self)\u001b[0m\n\u001b[1;32m     69\u001b[0m     \u001b[38;5;28mself\u001b[39m\u001b[38;5;241m.\u001b[39mstep \u001b[38;5;241m+\u001b[39m\u001b[38;5;241m=\u001b[39m \u001b[38;5;241m1\u001b[39m\n\u001b[1;32m     70\u001b[0m \u001b[38;5;28mself\u001b[39m\u001b[38;5;241m.\u001b[39mmetrics\u001b[38;5;241m.\u001b[39mreset()\n\u001b[0;32m---> 71\u001b[0m \u001b[38;5;28;43mself\u001b[39;49m\u001b[38;5;241;43m.\u001b[39;49m\u001b[43msave_checkpoint\u001b[49m\u001b[43m(\u001b[49m\u001b[43m)\u001b[49m\n",
      "File \u001b[0;32m~/personal/ovarian_ct/src/train.py:61\u001b[0m, in \u001b[0;36mTraining.save_checkpoint\u001b[0;34m(self)\u001b[0m\n\u001b[1;32m     59\u001b[0m \u001b[38;5;28;01mdef\u001b[39;00m \u001b[38;5;21msave_checkpoint\u001b[39m(\u001b[38;5;28mself\u001b[39m):\n\u001b[1;32m     60\u001b[0m \u001b[38;5;250m    \u001b[39m\u001b[38;5;124;03m\"\"\"Save checkpoint with current step number\"\"\"\u001b[39;00m\n\u001b[0;32m---> 61\u001b[0m     \u001b[43mtorch\u001b[49m\u001b[38;5;241;43m.\u001b[39;49m\u001b[43msave\u001b[49m\u001b[43m(\u001b[49m\u001b[38;5;28;43mself\u001b[39;49m\u001b[38;5;241;43m.\u001b[39;49m\u001b[43mmodel\u001b[49m\u001b[38;5;241;43m.\u001b[39;49m\u001b[43mstate_dict\u001b[49m\u001b[43m(\u001b[49m\u001b[43m)\u001b[49m\u001b[43m,\u001b[49m\u001b[43m \u001b[49m\u001b[38;5;124;43mf\u001b[39;49m\u001b[38;5;124;43m'\u001b[39;49m\u001b[38;5;132;43;01m{\u001b[39;49;00m\u001b[38;5;28;43mself\u001b[39;49m\u001b[38;5;241;43m.\u001b[39;49m\u001b[43msave_dir\u001b[49m\u001b[38;5;132;43;01m}\u001b[39;49;00m\u001b[38;5;124;43m/model-\u001b[39;49m\u001b[38;5;132;43;01m{\u001b[39;49;00m\u001b[38;5;28;43mself\u001b[39;49m\u001b[38;5;241;43m.\u001b[39;49m\u001b[43mstep\u001b[49m\u001b[38;5;132;43;01m}\u001b[39;49;00m\u001b[38;5;124;43m.pth\u001b[39;49m\u001b[38;5;124;43m'\u001b[39;49m\u001b[43m)\u001b[49m\n",
      "File \u001b[0;32m~/personal/ovarian_ct/ova/lib/python3.10/site-packages/torch/serialization.py:422\u001b[0m, in \u001b[0;36msave\u001b[0;34m(obj, f, pickle_module, pickle_protocol, _use_new_zipfile_serialization)\u001b[0m\n\u001b[1;32m    419\u001b[0m _check_dill_version(pickle_module)\n\u001b[1;32m    421\u001b[0m \u001b[38;5;28;01mif\u001b[39;00m _use_new_zipfile_serialization:\n\u001b[0;32m--> 422\u001b[0m     \u001b[38;5;28;01mwith\u001b[39;00m \u001b[43m_open_zipfile_writer\u001b[49m\u001b[43m(\u001b[49m\u001b[43mf\u001b[49m\u001b[43m)\u001b[49m \u001b[38;5;28;01mas\u001b[39;00m opened_zipfile:\n\u001b[1;32m    423\u001b[0m         _save(obj, opened_zipfile, pickle_module, pickle_protocol)\n\u001b[1;32m    424\u001b[0m         \u001b[38;5;28;01mreturn\u001b[39;00m\n",
      "File \u001b[0;32m~/personal/ovarian_ct/ova/lib/python3.10/site-packages/torch/serialization.py:309\u001b[0m, in \u001b[0;36m_open_zipfile_writer\u001b[0;34m(name_or_buffer)\u001b[0m\n\u001b[1;32m    307\u001b[0m \u001b[38;5;28;01melse\u001b[39;00m:\n\u001b[1;32m    308\u001b[0m     container \u001b[38;5;241m=\u001b[39m _open_zipfile_writer_buffer\n\u001b[0;32m--> 309\u001b[0m \u001b[38;5;28;01mreturn\u001b[39;00m \u001b[43mcontainer\u001b[49m\u001b[43m(\u001b[49m\u001b[43mname_or_buffer\u001b[49m\u001b[43m)\u001b[49m\n",
      "File \u001b[0;32m~/personal/ovarian_ct/ova/lib/python3.10/site-packages/torch/serialization.py:287\u001b[0m, in \u001b[0;36m_open_zipfile_writer_file.__init__\u001b[0;34m(self, name)\u001b[0m\n\u001b[1;32m    286\u001b[0m \u001b[38;5;28;01mdef\u001b[39;00m \u001b[38;5;21m__init__\u001b[39m(\u001b[38;5;28mself\u001b[39m, name) \u001b[38;5;241m-\u001b[39m\u001b[38;5;241m>\u001b[39m \u001b[38;5;28;01mNone\u001b[39;00m:\n\u001b[0;32m--> 287\u001b[0m     \u001b[38;5;28msuper\u001b[39m(_open_zipfile_writer_file, \u001b[38;5;28mself\u001b[39m)\u001b[38;5;241m.\u001b[39m\u001b[38;5;21m__init__\u001b[39m(\u001b[43mtorch\u001b[49m\u001b[38;5;241;43m.\u001b[39;49m\u001b[43m_C\u001b[49m\u001b[38;5;241;43m.\u001b[39;49m\u001b[43mPyTorchFileWriter\u001b[49m\u001b[43m(\u001b[49m\u001b[38;5;28;43mstr\u001b[39;49m\u001b[43m(\u001b[49m\u001b[43mname\u001b[49m\u001b[43m)\u001b[49m\u001b[43m)\u001b[49m)\n",
      "\u001b[0;31mRuntimeError\u001b[0m: Parent directory ../../data/OTU_2d/runs does not exist."
     ]
    }
   ],
   "source": [
    "trainer.run()"
   ]
  },
  {
   "cell_type": "code",
   "execution_count": null,
   "id": "70569f14",
   "metadata": {},
   "outputs": [],
   "source": []
  },
  {
   "cell_type": "code",
   "execution_count": null,
   "id": "8d777001",
   "metadata": {},
   "outputs": [],
   "source": []
  },
  {
   "cell_type": "code",
   "execution_count": null,
   "id": "bdffaf21",
   "metadata": {},
   "outputs": [],
   "source": []
  },
  {
   "cell_type": "code",
   "execution_count": null,
   "id": "64e14957",
   "metadata": {},
   "outputs": [],
   "source": []
  }
 ],
 "metadata": {
  "kernelspec": {
   "display_name": "Python 3 (ipykernel)",
   "language": "python",
   "name": "python3"
  },
  "language_info": {
   "codemirror_mode": {
    "name": "ipython",
    "version": 3
   },
   "file_extension": ".py",
   "mimetype": "text/x-python",
   "name": "python",
   "nbconvert_exporter": "python",
   "pygments_lexer": "ipython3",
   "version": "3.10.6"
  }
 },
 "nbformat": 4,
 "nbformat_minor": 5
}
